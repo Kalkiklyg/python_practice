{
 "cells": [
  {
   "cell_type": "code",
   "execution_count": 2,
   "id": "8375495a",
   "metadata": {},
   "outputs": [
    {
     "name": "stdout",
     "output_type": "stream",
     "text": [
      "Enter length of rectangle: 4.5\n",
      "Enter width of rectangle: 5.4\n",
      "Area of rectangle is  24.3\n"
     ]
    }
   ],
   "source": [
    "# area of rectangle:\n",
    "l=float(input(\"Enter length of rectangle: \"))\n",
    "w=float(input(\"Enter width of rectangle: \"))\n",
    "Area=l*w\n",
    "print(\"Area of rectangle is \",Area)"
   ]
  },
  {
   "cell_type": "code",
   "execution_count": null,
   "id": "e9f7111e",
   "metadata": {},
   "outputs": [],
   "source": []
  }
 ],
 "metadata": {
  "kernelspec": {
   "display_name": "Python 3 (ipykernel)",
   "language": "python",
   "name": "python3"
  },
  "language_info": {
   "codemirror_mode": {
    "name": "ipython",
    "version": 3
   },
   "file_extension": ".py",
   "mimetype": "text/x-python",
   "name": "python",
   "nbconvert_exporter": "python",
   "pygments_lexer": "ipython3",
   "version": "3.10.9"
  }
 },
 "nbformat": 4,
 "nbformat_minor": 5
}
