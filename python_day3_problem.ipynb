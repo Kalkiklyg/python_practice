{
 "cells": [
  {
   "cell_type": "code",
   "execution_count": 7,
   "id": "48290cd4",
   "metadata": {},
   "outputs": [
    {
     "name": "stdout",
     "output_type": "stream",
     "text": [
      "Enter a number to check whether it is armstrong or not: 153\n",
      "153  Is an Armstrong number.\n"
     ]
    }
   ],
   "source": [
    "#Problem 1: Check if a number is Armstrong number.\n",
    "num=int(input(\"Enter a number to check whether it is armstrong or not: \"))\n",
    "str_n=str(num)\n",
    "order=len(str_n)\n",
    "sop=0\n",
    "for digit in str_n:\n",
    "    sop+=int(digit)**order\n",
    "if sop==num:\n",
    "    print(num,' Is an Armstrong number.')\n",
    "else:\n",
    "    print(num,' Is not an Armstrong number.')\n"
   ]
  },
  {
   "cell_type": "code",
   "execution_count": 41,
   "id": "196f6de2",
   "metadata": {},
   "outputs": [
    {
     "name": "stdout",
     "output_type": "stream",
     "text": [
      "Enter a number to check if it is prime number: 2\n"
     ]
    }
   ],
   "source": [
    "#Find prime numbers in a range.\n",
    "num=int(input(\"Enter a number to check if it is prime number: \"))\n",
    "for i in range(2,num):\n",
    "    if num%i==0:\n",
    "        print(num,\" is not prime number.\")\n",
    "    else:\n",
    "        print(num,\" is prime number.\") "
   ]
  },
  {
   "cell_type": "code",
   "execution_count": 37,
   "id": "35cc86ed",
   "metadata": {},
   "outputs": [
    {
     "name": "stdout",
     "output_type": "stream",
     "text": [
      "Enter a sentence: hi my name is shailesh\n",
      "shailesh\n"
     ]
    }
   ],
   "source": [
    "#Find the longest word in a string.\n",
    "s=input(\"Enter a sentence: \")\n",
    "s_s=(s.split())\n",
    "h=\"\"\n",
    "for i in s_s:\n",
    "    if len(i)> len(h):\n",
    "        h=i\n",
    "print(h)"
   ]
  },
  {
   "cell_type": "code",
   "execution_count": 22,
   "id": "39b97446",
   "metadata": {},
   "outputs": [
    {
     "name": "stdout",
     "output_type": "stream",
     "text": [
      "Enter a number to check if it is prime number: 3\n",
      "3  is prime number.\n"
     ]
    }
   ],
   "source": []
  },
  {
   "cell_type": "code",
   "execution_count": null,
   "id": "baeafbc6",
   "metadata": {},
   "outputs": [],
   "source": []
  }
 ],
 "metadata": {
  "kernelspec": {
   "display_name": "Python 3 (ipykernel)",
   "language": "python",
   "name": "python3"
  },
  "language_info": {
   "codemirror_mode": {
    "name": "ipython",
    "version": 3
   },
   "file_extension": ".py",
   "mimetype": "text/x-python",
   "name": "python",
   "nbconvert_exporter": "python",
   "pygments_lexer": "ipython3",
   "version": "3.10.9"
  }
 },
 "nbformat": 4,
 "nbformat_minor": 5
}
