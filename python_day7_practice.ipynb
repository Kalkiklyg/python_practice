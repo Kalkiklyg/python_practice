{
 "cells": [
  {
   "cell_type": "code",
   "execution_count": 1,
   "id": "3717f04c",
   "metadata": {},
   "outputs": [
    {
     "name": "stdout",
     "output_type": "stream",
     "text": [
      "Enter a sentence: Hello My name is Shailesh\n",
      "['Hello', 'My', 'name', 'is', 'Shailesh']\n"
     ]
    }
   ],
   "source": [
    "#Return List of Words from String\n",
    "user_input=input(\"Enter a sentence: \")\n",
    "user_split=user_input.split()\n",
    "print(user_split)\n"
   ]
  },
  {
   "cell_type": "code",
   "execution_count": null,
   "id": "d3eaa00e",
   "metadata": {},
   "outputs": [],
   "source": [
    "#Extract Uppercase Letters from a String\n",
    "user_input = input(\"Enter a word: \")\n",
    "upper_list = []\n",
    "\n",
    "for ch in user_input:\n",
    "    if ch.isupper():       # check uppercase\n",
    "        upper_list.append(ch)\n",
    "\n",
    "print(\"Uppercase letters are:\", upper_list)\n"
   ]
  },
  {
   "cell_type": "code",
   "execution_count": 10,
   "id": "0c218b10",
   "metadata": {},
   "outputs": [
    {
     "name": "stdout",
     "output_type": "stream",
     "text": [
      "89.66666666666666\n"
     ]
    }
   ],
   "source": [
    "##Simple Calculator:\n",
    "Physics = 89\n",
    "Chemistry = 93\n",
    "Maths = 87\n",
    "add=(Physics+Chemistry+Maths)/300\n",
    "per=add*100\n",
    "print(per)"
   ]
  },
  {
   "cell_type": "code",
   "execution_count": null,
   "id": "73212cd1",
   "metadata": {},
   "outputs": [],
   "source": [
    "#Remove Count of All Lowercase Characters from a String\n",
    "user_input = input(\"Enter a word: \")\n",
    "result = \"\"\n",
    "\n",
    "for ch in user_input:\n",
    "    if not ch.islower():   # keep only non-lowercase chars\n",
    "        result += ch\n",
    "\n",
    "print(\"String without lowercase characters:\", result)\n"
   ]
  },
  {
   "cell_type": "code",
   "execution_count": null,
   "id": "cf811c97",
   "metadata": {},
   "outputs": [],
   "source": [
    "#Simple Calculator:Take two numbers and an operator (+, -, *, /) as input, then perform the operation\n",
    "num1=int(input(\"Enter a number:\"))\n",
    "num2=int(input(\"Enter a number:\"))\n",
    "add=num1+num2\n",
    "sub=num1-num2\n",
    "mul=num1*num2\n",
    "div=num1*num2\n",
    "op=input(\"Enter an operation add,sub,mul,div: \")\n",
    "if op==add:\n",
    "    print(\"addition: \",add)\n",
    "elif op==sub:\n",
    "    print(sub)\n",
    "elif op==mul:\n",
    "    print(mul)\n",
    "elif op==div:\n",
    "    print(div)"
   ]
  },
  {
   "cell_type": "code",
   "execution_count": null,
   "id": "854a505a",
   "metadata": {},
   "outputs": [],
   "source": [
    "#Simple Calculator:Take two numbers and an operator (+, -, *, /) as input, then perform the operation\n",
    "num1=int(input(\"Enter a number:\"))\n",
    "num2=int(input(\"Enter a number:\"))\n",
    "op=input(\"Enter an operation +,-,*,/: \")\n",
    "if op=='+':\n",
    "    print(num1+num2)\n",
    "elif op=='-':\n",
    "    print(num1-num2)\n",
    "elif op=='*':\n",
    "    print(num1*num2)\n",
    "elif op=='/':\n",
    "    print(num1/num2)"
   ]
  }
 ],
 "metadata": {
  "kernelspec": {
   "display_name": "Python 3 (ipykernel)",
   "language": "python",
   "name": "python3"
  },
  "language_info": {
   "codemirror_mode": {
    "name": "ipython",
    "version": 3
   },
   "file_extension": ".py",
   "mimetype": "text/x-python",
   "name": "python",
   "nbconvert_exporter": "python",
   "pygments_lexer": "ipython3",
   "version": "3.10.9"
  }
 },
 "nbformat": 4,
 "nbformat_minor": 5
}
