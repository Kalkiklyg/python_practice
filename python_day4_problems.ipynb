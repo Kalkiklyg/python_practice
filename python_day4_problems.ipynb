{
 "cells": [
  {
   "cell_type": "code",
   "execution_count": 9,
   "id": "ee11d7df",
   "metadata": {},
   "outputs": [
    {
     "name": "stdout",
     "output_type": "stream",
     "text": [
      "[1, 2]\n"
     ]
    }
   ],
   "source": [
    "#Find Duplicate Elements in a List\n",
    "a=[1,2,3,2,4,5,1]\n",
    "seen=set()\n",
    "duplicate=set()\n",
    "for i in a:\n",
    "    if i in seen:\n",
    "        duplicate.add(i)\n",
    "    else:\n",
    "        seen.add(i)\n",
    "print (list(duplicate))\n",
    "'''understood the method yet facing difficulty:\n",
    "i cleared all the doubts and understood the logic'''"
   ]
  },
  {
   "cell_type": "code",
   "execution_count": 6,
   "id": "87992dfb",
   "metadata": {},
   "outputs": [
    {
     "data": {
      "text/plain": [
       "{'a': 1, 'b': 5, 'c': 4}"
      ]
     },
     "execution_count": 6,
     "metadata": {},
     "output_type": "execute_result"
    }
   ],
   "source": [
    "#Merge Two Dictionaries\n",
    "def sum_dict():\n",
    "    \n",
    "    a={'a': 1, 'b': 2}\n",
    "    b={'b': 3, 'c': 4}\n",
    "    c=a.copy()\n",
    "    for i,k in b.items():\n",
    "        if i in c:\n",
    "            c[i]+=k\n",
    "        else:\n",
    "            c[i]=k\n",
    "    return c\n",
    "sum_dict()\n",
    "'''needs practice and revision of classes and dictionaries, first attempt was correct in logic\n",
    ", needs work to communicate'''"
   ]
  },
  {
   "cell_type": "code",
   "execution_count": 14,
   "id": "d3d40232",
   "metadata": {},
   "outputs": [
    {
     "name": "stdout",
     "output_type": "stream",
     "text": [
      "{'h': 1, 'e': 1, 'l': 3, 'o': 2, ' ': 1, 'w': 1, 'r': 1, 'd': 1}\n"
     ]
    }
   ],
   "source": [
    "#Count Character Frequency in a String (without Counter)\n",
    "\n",
    "s = \"hello world\"\n",
    "ds = {}\n",
    "\n",
    "for i in s:\n",
    "    if i in ds:\n",
    "        ds[i] += 1\n",
    "    else:\n",
    "        ds[i] = 1\n",
    "\n",
    "print(ds)\n",
    "\n",
    "'''i knew the method but was not sure about dictionary and how to write it properly.'''\n",
    "    "
   ]
  },
  {
   "cell_type": "code",
   "execution_count": 13,
   "id": "a6891381",
   "metadata": {},
   "outputs": [
    {
     "name": "stdout",
     "output_type": "stream",
     "text": [
      "{'h': 1, 'e': 1, 'l': 3, 'o': 2, ' ': 1, 'w': 1, 'r': 1, 'd': 1}\n"
     ]
    }
   ],
   "source": []
  },
  {
   "cell_type": "code",
   "execution_count": null,
   "id": "315009b2",
   "metadata": {},
   "outputs": [],
   "source": []
  }
 ],
 "metadata": {
  "kernelspec": {
   "display_name": "Python 3 (ipykernel)",
   "language": "python",
   "name": "python3"
  },
  "language_info": {
   "codemirror_mode": {
    "name": "ipython",
    "version": 3
   },
   "file_extension": ".py",
   "mimetype": "text/x-python",
   "name": "python",
   "nbconvert_exporter": "python",
   "pygments_lexer": "ipython3",
   "version": "3.10.9"
  }
 },
 "nbformat": 4,
 "nbformat_minor": 5
}
