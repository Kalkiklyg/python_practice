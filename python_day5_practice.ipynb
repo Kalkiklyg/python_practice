{
 "cells": [
  {
   "cell_type": "code",
   "execution_count": 3,
   "id": "26a89ebb",
   "metadata": {},
   "outputs": [
    {
     "name": "stdout",
     "output_type": "stream",
     "text": [
      "Enter first word: silent\n",
      "Enter second word: listen\n",
      "Anagram\n"
     ]
    }
   ],
   "source": [
    "\n",
    "# Problem: Check if two strings are anagrams\n",
    "user = input(\"Enter first word: \")\n",
    "ana = input(\"Enter second word: \")\n",
    "\n",
    "# Normalize: lower case + remove spaces\n",
    "user = user.replace(\" \", \"\").lower()\n",
    "ana = ana.replace(\" \", \"\").lower()\n",
    "\n",
    "# Sort and compare\n",
    "if sorted(user) == sorted(ana):\n",
    "    print(\"Anagram\")\n",
    "else:\n",
    "    print(\"Not anagram\")\n"
   ]
  },
  {
   "cell_type": "code",
   "execution_count": null,
   "id": "4debd22e",
   "metadata": {},
   "outputs": [],
   "source": []
  }
 ],
 "metadata": {
  "kernelspec": {
   "display_name": "Python 3 (ipykernel)",
   "language": "python",
   "name": "python3"
  },
  "language_info": {
   "codemirror_mode": {
    "name": "ipython",
    "version": 3
   },
   "file_extension": ".py",
   "mimetype": "text/x-python",
   "name": "python",
   "nbconvert_exporter": "python",
   "pygments_lexer": "ipython3",
   "version": "3.10.9"
  }
 },
 "nbformat": 4,
 "nbformat_minor": 5
}
