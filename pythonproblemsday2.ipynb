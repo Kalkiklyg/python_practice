{
 "cells": [
  {
   "cell_type": "code",
   "execution_count": 2,
   "id": "aa002d3c",
   "metadata": {},
   "outputs": [
    {
     "name": "stdout",
     "output_type": "stream",
     "text": [
      "reversed string, using slicing method:  elpmaxe\n",
      "\n",
      "Reversed string using join and reversed method:  elpmaxe\n",
      "\n",
      "reversed string using loop:  eexample\n"
     ]
    }
   ],
   "source": [
    "#Reverse a String → Write a function that reverses a given string.\n",
    "#slicing:\n",
    "given_string=\"example\"\n",
    "rev_0=given_string[::-1]\n",
    "print(\"reversed string, using slicing method: \",rev_0)\n",
    "#join_reversed\n",
    "print()\n",
    "rev_1=\"\".join(reversed(given_string))\n",
    "print(\"Reversed string using join and reversed method: \",rev_1)\n",
    "print()\n",
    "#loop\n",
    "rev_2=\" \"\n",
    "for char in given_string:\n",
    "    rev_2=char+given_string\n",
    "print(\"reversed string using loop: \",rev_2)"
   ]
  },
  {
   "cell_type": "code",
   "execution_count": 14,
   "id": "f37e927d",
   "metadata": {},
   "outputs": [
    {
     "name": "stdout",
     "output_type": "stream",
     "text": [
      "8\n",
      "36.0\n",
      "30\n",
      "The missing number from the list is : 6.0\n"
     ]
    }
   ],
   "source": [
    "l=[8,2,4,5,3,7,1]\n",
    "n=len(l)+1\n",
    "print(n)\n",
    "Total_expected=n*(n+1)/2\n",
    "print(Total_expected)\n",
    "#print(Total_expected)\n",
    "Total_actual=sum(l)\n",
    "print(Total_actual)\n",
    "missing_number=Total_expected-Total_actual\n",
    "print(\"The missing number from the list is :\",missing_number)"
   ]
  },
  {
   "cell_type": "code",
   "execution_count": 25,
   "id": "d5eafac9",
   "metadata": {},
   "outputs": [
    {
     "name": "stdout",
     "output_type": "stream",
     "text": [
      "4\n"
     ]
    }
   ],
   "source": [
    "digi=112\n",
    "d=0\n",
    "for i in str(digi):\n",
    "    d+=int(i)\n",
    "print(d)"
   ]
  },
  {
   "cell_type": "code",
   "execution_count": null,
   "id": "c2881f86",
   "metadata": {},
   "outputs": [],
   "source": []
  }
 ],
 "metadata": {
  "kernelspec": {
   "display_name": "Python 3 (ipykernel)",
   "language": "python",
   "name": "python3"
  },
  "language_info": {
   "codemirror_mode": {
    "name": "ipython",
    "version": 3
   },
   "file_extension": ".py",
   "mimetype": "text/x-python",
   "name": "python",
   "nbconvert_exporter": "python",
   "pygments_lexer": "ipython3",
   "version": "3.10.9"
  }
 },
 "nbformat": 4,
 "nbformat_minor": 5
}
