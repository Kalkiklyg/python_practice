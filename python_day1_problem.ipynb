{
 "cells": [
  {
   "cell_type": "code",
   "execution_count": null,
   "id": "0334b837",
   "metadata": {},
   "outputs": [],
   "source": [
    "#Write a function that takes a list of numbers and returns the 2nd largest number.\n",
    "user_input=list(int(input(\"Enter a list of numbers: \")))\n",
    "#list_u_i=list(user_input)\n",
    "print(user_input)"
   ]
  },
  {
   "cell_type": "code",
   "execution_count": 2,
   "id": "7e8a530c",
   "metadata": {},
   "outputs": [
    {
     "name": "stdout",
     "output_type": "stream",
     "text": [
      "Enter numbers seprated by space: 12 65 89 99\n",
      "[12, 65, 89, 99]\n",
      "Second highest number:  89\n"
     ]
    }
   ],
   "source": [
    "#Write a function to find 2nd largest number.\n",
    "def second_highest(number):\n",
    "    user_number=list(set(number))\n",
    "    user_number.sort(reverse=True)\n",
    "    if len(user_number)<2:\n",
    "        return None\n",
    "    return user_number[1]\n",
    "user_input=input(\"Enter numbers seprated by space: \")\n",
    "num_list=list(map(int,user_input.split()))\n",
    "print(num_list)\n",
    "print(\"Second highest number: \",second_highest(num_list))"
   ]
  },
  {
   "cell_type": "code",
   "execution_count": 7,
   "id": "372a4db6",
   "metadata": {},
   "outputs": [
    {
     "name": "stdout",
     "output_type": "stream",
     "text": [
      "Counter({'this': 1, 'a': 1, 'given': 1, 'sentence': 1})\n"
     ]
    }
   ],
   "source": [
    "#Write a function to count frequency of words (Q2).\n",
    "from collections import Counter\n",
    "given=\"This a given sentence\"\n",
    "words=given.lower().split()\n",
    "count=Counter(words)\n",
    "print(count)"
   ]
  },
  {
   "cell_type": "code",
   "execution_count": 16,
   "id": "1603dd2c",
   "metadata": {},
   "outputs": [
    {
     "name": "stdout",
     "output_type": "stream",
     "text": [
      "elppa\n"
     ]
    }
   ],
   "source": [
    "#Reverse a string without using slicing.\n",
    "a=\"apple\"\n",
    "rever=\"\".join(reversed(a))\n",
    "print(rever)"
   ]
  },
  {
   "cell_type": "code",
   "execution_count": 50,
   "id": "7a1605e1",
   "metadata": {},
   "outputs": [
    {
     "name": "stdout",
     "output_type": "stream",
     "text": [
      "1\n",
      "2\n",
      "6\n",
      "24\n",
      "120\n"
     ]
    }
   ],
   "source": [
    "n=5\n",
    "result=1\n",
    "for i in range(1,n+1):\n",
    "    result*=i\n",
    "    print(result)\n",
    "    "
   ]
  },
  {
   "cell_type": "code",
   "execution_count": 57,
   "id": "6ef71e3a",
   "metadata": {},
   "outputs": [
    {
     "name": "stdout",
     "output_type": "stream",
     "text": [
      "Is not a palindrome.\n"
     ]
    }
   ],
   "source": [
    "def palindrome():\n",
    "    string=\"Hello\"\n",
    "    rev_string=string[::-1]\n",
    "    if string==rev_string:\n",
    "        print(\"Is a palindrome\")\n",
    "    else:\n",
    "        print(\"Is not a palindrome.\")\n",
    "palindrome()"
   ]
  },
  {
   "cell_type": "code",
   "execution_count": 67,
   "id": "69b58d02",
   "metadata": {},
   "outputs": [
    {
     "ename": "TypeError",
     "evalue": "'tuple' object is not callable",
     "output_type": "error",
     "traceback": [
      "\u001b[1;31m---------------------------------------------------------------------------\u001b[0m",
      "\u001b[1;31mTypeError\u001b[0m                                 Traceback (most recent call last)",
      "Cell \u001b[1;32mIn[67], line 4\u001b[0m\n\u001b[0;32m      1\u001b[0m l\u001b[38;5;241m=\u001b[39m[\u001b[38;5;241m1\u001b[39m,\u001b[38;5;241m2\u001b[39m,\u001b[38;5;241m3\u001b[39m,\u001b[38;5;241m3\u001b[39m,\u001b[38;5;241m4\u001b[39m,\u001b[38;5;241m4\u001b[39m,\u001b[38;5;241m5\u001b[39m]\n\u001b[0;32m      2\u001b[0m ul\u001b[38;5;241m=\u001b[39m()\n\u001b[1;32m----> 4\u001b[0m uni_ul\u001b[38;5;241m=\u001b[39m\u001b[43mul\u001b[49m\u001b[43m(\u001b[49m\u001b[38;5;28;43mset\u001b[39;49m\u001b[43m(\u001b[49m\u001b[43muni\u001b[49m\u001b[43m)\u001b[49m\u001b[43m)\u001b[49m\n\u001b[0;32m      5\u001b[0m \u001b[38;5;28mprint\u001b[39m(uni_ul)\n",
      "\u001b[1;31mTypeError\u001b[0m: 'tuple' object is not callable"
     ]
    }
   ],
   "source": [
    "l=[1,2,3,3,4,4,5]\n",
    "ul=()\n",
    "\n",
    "uni_ul=ul(set(uni))\n",
    "print(uni_ul)"
   ]
  },
  {
   "cell_type": "code",
   "execution_count": null,
   "id": "94f4dabe",
   "metadata": {},
   "outputs": [],
   "source": []
  }
 ],
 "metadata": {
  "kernelspec": {
   "display_name": "Python 3 (ipykernel)",
   "language": "python",
   "name": "python3"
  },
  "language_info": {
   "codemirror_mode": {
    "name": "ipython",
    "version": 3
   },
   "file_extension": ".py",
   "mimetype": "text/x-python",
   "name": "python",
   "nbconvert_exporter": "python",
   "pygments_lexer": "ipython3",
   "version": "3.10.9"
  }
 },
 "nbformat": 4,
 "nbformat_minor": 5
}
