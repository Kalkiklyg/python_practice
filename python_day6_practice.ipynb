{
 "cells": [
  {
   "cell_type": "code",
   "execution_count": 7,
   "id": "1aa7b57e",
   "metadata": {},
   "outputs": [
    {
     "ename": "AttributeError",
     "evalue": "'dict' object has no attribute 'add'",
     "output_type": "error",
     "traceback": [
      "\u001b[1;31m---------------------------------------------------------------------------\u001b[0m",
      "\u001b[1;31mAttributeError\u001b[0m                            Traceback (most recent call last)",
      "Cell \u001b[1;32mIn[7], line 16\u001b[0m\n\u001b[0;32m     12\u001b[0m         di_st\u001b[38;5;241m=\u001b[39ma\u001b[38;5;241m.\u001b[39madd()\n\u001b[0;32m     14\u001b[0m     \u001b[38;5;28;01melse\u001b[39;00m:\n\u001b[1;32m---> 16\u001b[0m         a\u001b[38;5;241m=\u001b[39m\u001b[43mdi_st\u001b[49m\u001b[38;5;241;43m.\u001b[39;49m\u001b[43madd\u001b[49m()\n\u001b[0;32m     18\u001b[0m \u001b[38;5;28mprint\u001b[39m(di_st)\n",
      "\u001b[1;31mAttributeError\u001b[0m: 'dict' object has no attribute 'add'"
     ]
    }
   ],
   "source": [
    "#first non-repeating charecter in string :\n",
    "\n",
    "string=\"hello\"\n",
    "\n",
    "di_st={}\n",
    "\n",
    "for a in string:\n",
    "    \n",
    "\n",
    "    if di_st==string:\n",
    "\n",
    "        di_st=a.add()\n",
    "\n",
    "    else:\n",
    "\n",
    "        a=di_st.add()\n",
    "\n",
    "print(di_st)\n",
    "\n",
    "\n",
    "\n"
   ]
  },
  {
   "cell_type": "code",
   "execution_count": 8,
   "id": "f9e77a88",
   "metadata": {},
   "outputs": [
    {
     "ename": "IndentationError",
     "evalue": "expected an indented block after 'if' statement on line 11 (204357433.py, line 13)",
     "output_type": "error",
     "traceback": [
      "\u001b[1;36m  Cell \u001b[1;32mIn[8], line 13\u001b[1;36m\u001b[0m\n\u001b[1;33m    print(\"is palindrome\")\u001b[0m\n\u001b[1;37m    ^\u001b[0m\n\u001b[1;31mIndentationError\u001b[0m\u001b[1;31m:\u001b[0m expected an indented block after 'if' statement on line 11\n"
     ]
    }
   ],
   "source": [
    "#check if the list is palindrome\n",
    "\n",
    "list=[1,2,3,2,1]\n",
    "\n",
    "st_list=str(list)\n",
    "\n",
    "st=st_list.split()\n",
    "\n",
    "p=st_list[::-1]\n",
    "\n",
    "if p == list:\n",
    "\n",
    "print(\"is palindrome\")\n",
    "\n",
    "else:\n",
    "\n",
    "print(\"is not palindrome\")"
   ]
  },
  {
   "cell_type": "code",
   "execution_count": 9,
   "id": "3ace80b5",
   "metadata": {},
   "outputs": [
    {
     "name": "stdout",
     "output_type": "stream",
     "text": [
      "The first non-repeating character is: h\n"
     ]
    }
   ],
   "source": [
    "#Check if a List is a Palindrome\n",
    "string = \"hello\"\n",
    "char_counts = {}\n",
    "\n",
    "\n",
    "for char in string:\n",
    "    char_counts[char] = char_counts.get(char, 0) + 1\n",
    "\n",
    "\n",
    "for char in string:\n",
    "    if char_counts[char] == 1:\n",
    "        print(f\"The first non-repeating character is: {char}\")\n",
    "        break  \n",
    "else:  \n",
    "    print(\"No non-repeating character found.\")"
   ]
  },
  {
   "cell_type": "code",
   "execution_count": null,
   "id": "a3945c13",
   "metadata": {},
   "outputs": [],
   "source": []
  }
 ],
 "metadata": {
  "kernelspec": {
   "display_name": "Python 3 (ipykernel)",
   "language": "python",
   "name": "python3"
  },
  "language_info": {
   "codemirror_mode": {
    "name": "ipython",
    "version": 3
   },
   "file_extension": ".py",
   "mimetype": "text/x-python",
   "name": "python",
   "nbconvert_exporter": "python",
   "pygments_lexer": "ipython3",
   "version": "3.10.9"
  }
 },
 "nbformat": 4,
 "nbformat_minor": 5
}
